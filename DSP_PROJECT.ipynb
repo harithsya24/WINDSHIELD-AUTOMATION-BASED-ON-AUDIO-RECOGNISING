{
  "cells": [
    {
      "cell_type": "code",
      "execution_count": null,
      "metadata": {
        "id": "kbE0nt5yCVQ9"
      },
      "outputs": [],
      "source": [
        "import torch\n",
        "import torchaudio\n",
        "import torchaudio.functional as F\n",
        "import torchaudio.transforms as T\n",
        "from torchvision import datasets, transforms\n",
        "import pandas as pd\n",
        "import numpy as np\n",
        "import os\n",
        "import time\n",
        "import copy\n",
        "import pickle\n",
        "import numpy as np\n",
        "import pandas as pd\n",
        "\n",
        "import matplotlib.pyplot as plt\n",
        "\n",
        "from PIL import Image\n",
        "import cv2\n",
        "%matplotlib inline\n",
        "\n",
        "import torch\n",
        "import torchvision\n",
        "from torch import nn\n",
        "from torch.utils.data import DataLoader\n",
        "from torch.utils.data.dataset import Dataset\n",
        "from torchvision import transforms\n",
        "import torchaudio\n",
        "from sklearn.preprocessing import LabelEncoder\n",
        "labelen_xy=LabelEncoder()\n",
        "\n"
      ]
    },
    {
      "cell_type": "code",
      "execution_count": null,
      "metadata": {
        "colab": {
          "base_uri": "https://localhost:8080/"
        },
        "id": "nKOyZLVXUlLR",
        "outputId": "629db989-07ab-4d0d-8ea0-a4bb92fa2d87"
      },
      "outputs": [
        {
          "output_type": "stream",
          "name": "stdout",
          "text": [
            "Mounted at /content/drive\n"
          ]
        }
      ],
      "source": [
        "from google.colab import drive\n",
        "drive.mount('/content/drive')"
      ]
    },
    {
      "cell_type": "code",
      "execution_count": null,
      "metadata": {
        "colab": {
          "base_uri": "https://localhost:8080/"
        },
        "id": "FAMdLFG33MWe",
        "outputId": "0e2a55bc-f113-4de4-8dfb-1e9e96dc5e09"
      },
      "outputs": [
        {
          "output_type": "stream",
          "name": "stdout",
          "text": [
            "cuda:0\n"
          ]
        }
      ],
      "source": [
        "device=torch.device('cuda:0' if torch.cuda.is_available() else 'cpu')\n",
        "print(device)"
      ]
    },
    {
      "cell_type": "code",
      "execution_count": null,
      "metadata": {
        "id": "XM5lf0zSZ5mm"
      },
      "outputs": [],
      "source": [
        "import numpy as np\n",
        "import os\n",
        "datadir=\"/content/drive/MyDrive/DSPDATAM/traindata\"\n",
        "cata=[\"down\",\"fear\",\"left\",\"no\",\"right\",\"siren\",\"stop\",\"surprise\"]\n",
        "p=[]\n",
        "\n",
        "for cat in cata:\n",
        "  path=os.path.join(datadir,cat)\n",
        "\n",
        "  for pat in os.listdir(path):\n",
        "    #print(pat)\n",
        "    p.append([pat,cat])\n"
      ]
    },
    {
      "cell_type": "code",
      "source": [
        "datadirv=\"/content/drive/MyDrive/DSPDATAM/testdata\"\n",
        "cata=[\"down\",\"fear\",\"left\",\"no\",\"right\",\"siren\",\"stop\",\"surprise\"]\n",
        "pv=[]\n",
        "\n",
        "for cat in cata:\n",
        "  path=os.path.join(datadirv,cat)\n",
        "\n",
        "  for pat in os.listdir(path):\n",
        "    #print(pat)\n",
        "    pv.append([pat,cat])"
      ],
      "metadata": {
        "id": "R3dGzgQmhSeG"
      },
      "execution_count": null,
      "outputs": []
    },
    {
      "cell_type": "markdown",
      "metadata": {
        "id": "PdLHS4QljFfd"
      },
      "source": [
        "LABEL"
      ]
    },
    {
      "cell_type": "code",
      "execution_count": null,
      "metadata": {
        "colab": {
          "base_uri": "https://localhost:8080/"
        },
        "id": "VZ0WHlGM_IBf",
        "outputId": "0c933bee-5e36-41dc-a86f-813a257dd04c"
      },
      "outputs": [
        {
          "name": "stdout",
          "output_type": "stream",
          "text": [
            "1466\n",
            "[['0']\n",
            " ['0']\n",
            " ['0']\n",
            " ...\n",
            " ['7']\n",
            " ['7']\n",
            " ['7']]\n",
            "1466\n",
            "tensor([1., 0., 0., 0., 0., 0., 0., 0.])\n"
          ]
        }
      ],
      "source": [
        "p1v=[]\n",
        "p1v=np.array(pv)\n",
        "print(len(p1v))\n",
        "p1v[:,1]=labelen_xy.fit_transform(p1v[:,1])\n",
        "qv=p1v[:,[1]]\n",
        "print(qv)\n",
        "qv=qv.astype('int64')\n",
        "qv=torch.from_numpy(qv)\n",
        "print(qv.shape[0])\n",
        "qov=torch.zeros(qv.shape[0],8)\n",
        "qov=qov.scatter_(1,qv,1.0)\n",
        "print(qov[1])"
      ]
    },
    {
      "cell_type": "markdown",
      "metadata": {
        "id": "pPZZswy-zFE_"
      },
      "source": [
        "DATALOADER"
      ]
    },
    {
      "cell_type": "code",
      "execution_count": null,
      "metadata": {
        "id": "6O8lCCP03yn-"
      },
      "outputs": [],
      "source": [
        "sr=22050\n",
        "ns=22050\n",
        "mel=torchaudio.transforms.MelSpectrogram(sample_rate=sr,\n",
        "                                         n_fft=1024,\n",
        "                                         hop_length=512,\n",
        "                                         n_mels=64)"
      ]
    },
    {
      "cell_type": "markdown",
      "source": [
        "Mel spectogram"
      ],
      "metadata": {
        "id": "5zhGzBDXe5gx"
      }
    },
    {
      "cell_type": "code",
      "execution_count": null,
      "metadata": {
        "id": "1qrt_dxdCzFL"
      },
      "outputs": [],
      "source": [
        "from sklearn.preprocessing import StandardScaler\n",
        "class DATA(Dataset):\n",
        "  def __init__(self,p,qo,datadir,transform,tsr,ns,device):\n",
        "    self.p=p\n",
        "    self.datadir=datadir\n",
        "    self.device=device\n",
        "    self.transform=transform.to(self.device)\n",
        "    self.tsr=tsr\n",
        "    self.ns=ns\n",
        "\n",
        "\n",
        "  def __len__(self):\n",
        "    return len(self.p)\n",
        "  def __getitem__(self,index):\n",
        "    audio_sample_path=self._get_audio_sample_path(index)\n",
        "    label=self._get_audio_sample_label(index)\n",
        "    signal,sr=torchaudio.load(audio_sample_path)\n",
        "    signal=signal.to(self.device)\n",
        "    #signal=signal.astype('float32')\n",
        "    signal=self._resample_if_necessary(signal,sr)\n",
        "    signal=self._mix_down_if_necessary(signal)\n",
        "    signal = self._cut_if_necessary(signal)\n",
        "    signal = self._right_pad_if_necessary(signal)\n",
        "    signal=self.transform(signal)\n",
        "    signal=signal.to('cpu')\n",
        "    signal=torch.squeeze(signal,0)\n",
        "\n",
        "\n",
        "    scaler = StandardScaler()\n",
        "    signal = scaler.fit_transform(signal.numpy())\n",
        "    signal=torch.from_numpy(signal)\n",
        "    signal=torch.unsqueeze(signal,0)\n",
        "\n",
        "    signal=signal.to(device)\n",
        "    return signal,qo[index]\n",
        "  def _get_audio_sample_path(self,index):\n",
        "    path=os.path.join(self.datadir,self.p[index][1],self.p[index][0])\n",
        "    return path\n",
        "  def _get_audio_sample_label(self,index):\n",
        "    return self.p[index][1]\n",
        "  def _resample_if_necessary(self,signal,sr):\n",
        "    if(sr!=self.tsr):\n",
        "      res=torchaudio.transforms.Resample(sr,self.tsr).to(device)\n",
        "      signal=res(signal)\n",
        "    return signal\n",
        "  def _mix_down_if_necessary(self,signal):\n",
        "    if signal.shape[0]>1:\n",
        "      signal=torch.mean(signal,dim=0,keepdim=True)\n",
        "    return signal\n",
        "  def _cut_if_necessary(self, signal):\n",
        "    if signal.shape[1] > self.ns:\n",
        "      signal = signal[:, :self.ns]\n",
        "    return signal\n",
        "\n",
        "  def _right_pad_if_necessary(self, signal):\n",
        "    length_signal = signal.shape[1]\n",
        "    if length_signal < self.ns:\n",
        "      num_missing_samples = self.ns - length_signal\n",
        "      last_dim_padding = (0, num_missing_samples)\n",
        "      signal = torch.nn.functional.pad(signal, last_dim_padding)\n",
        "    return signal"
      ]
    },
    {
      "cell_type": "code",
      "execution_count": null,
      "metadata": {
        "colab": {
          "base_uri": "https://localhost:8080/"
        },
        "id": "uBcePZxRj2VK",
        "outputId": "a0422236-0777-4a38-b3f3-ed197dc3a0be"
      },
      "outputs": [
        {
          "name": "stdout",
          "output_type": "stream",
          "text": [
            "(tensor([[[ 2.2500,  1.8388,  6.5192,  ...,  5.8138,  7.3812, -0.2252],\n",
            "         [ 0.7714,  4.7589,  1.7373,  ...,  3.3111,  1.5934,  3.9096],\n",
            "         [ 3.6329,  3.3875,  1.4150,  ...,  0.4213,  0.6912,  4.3525],\n",
            "         ...,\n",
            "         [-0.4405, -0.6604, -0.3877,  ..., -0.7073, -0.3675, -0.5488],\n",
            "         [-0.4405, -0.6604, -0.3877,  ..., -0.7073, -0.3675, -0.5489],\n",
            "         [-0.4405, -0.6604, -0.3877,  ..., -0.7073, -0.3675, -0.5490]]],\n",
            "       device='cuda:0'), tensor([1., 0., 0., 0., 0., 0., 0., 0.]))\n",
            "(tensor([[[ 7.9112e+00,  7.8052e+00, -1.7133e-01,  ...,  7.8834e+00,\n",
            "           6.3496e+00,  7.3501e+00],\n",
            "         [ 2.9761e-01,  1.2815e+00,  1.4244e+00,  ...,  3.9802e-01,\n",
            "           4.6041e+00,  2.6112e+00],\n",
            "         [-3.0590e-02,  6.8328e-04,  4.0400e+00,  ...,  6.0785e-02,\n",
            "           5.1960e-01, -1.6750e-01],\n",
            "         ...,\n",
            "         [-2.2299e-01, -1.9615e-01, -4.0966e-01,  ..., -1.9846e-01,\n",
            "          -2.2081e-01, -2.5855e-01],\n",
            "         [-2.2338e-01, -1.9624e-01, -4.0996e-01,  ..., -1.9846e-01,\n",
            "          -2.2081e-01, -2.5860e-01],\n",
            "         [-2.2341e-01, -1.9625e-01, -4.0996e-01,  ..., -1.9846e-01,\n",
            "          -2.2081e-01, -2.5864e-01]]], device='cuda:0'), tensor([1., 0., 0., 0., 0., 0., 0., 0.]))\n",
            "10169\n",
            "1466\n"
          ]
        }
      ],
      "source": [
        "data=DATA(p,qo,datadir,mel,sr,ns,device)\n",
        "#data1=DATA(pv,qov,datadirv,mel,sr,ns,device)\n",
        "print(data[1])\n",
        "#print(data1[0])\n",
        "print(len(data))\n",
        "#print(len(data1))"
      ]
    },
    {
      "cell_type": "code",
      "source": [
        "tr=data\n",
        "ts=data1"
      ],
      "metadata": {
        "id": "uEPWrO6vdSSH"
      },
      "execution_count": null,
      "outputs": []
    },
    {
      "cell_type": "code",
      "execution_count": null,
      "metadata": {
        "id": "qGA_ARXB38ye"
      },
      "outputs": [],
      "source": [
        "from sklearn.model_selection import train_test_split\n",
        "tr, ts = train_test_split(data, test_size=0.15, random_state=42)\n",
        "torch.save(tr, '/content/drive/MyDrive/DSPDATAM/traindataset2.pt')\n",
        "torch.save(ts, '/content/drive/MyDrive/DSPDATAM/testdataset2.pt')\n"
      ]
    },
    {
      "cell_type": "code",
      "execution_count": null,
      "metadata": {
        "id": "ULVSPuiJ52ot"
      },
      "outputs": [],
      "source": [
        "tr=torch.load('/content/drive/MyDrive/DSPDATAM/SAVE/traindataset2.pt')\n",
        "ts=torch.load('/content/drive/MyDrive/DSPDATAM/SAVE/testdataset2.pt')\n",
        "\n"
      ]
    },
    {
      "cell_type": "code",
      "execution_count": null,
      "metadata": {
        "id": "AWXhZBwWVSLJ"
      },
      "outputs": [],
      "source": [
        "trl=DataLoader(dataset=tr,batch_size=62,shuffle=True)\n",
        "tsl=DataLoader(dataset=ts,batch_size=62,shuffle=True)"
      ]
    },
    {
      "cell_type": "code",
      "execution_count": null,
      "metadata": {
        "colab": {
          "base_uri": "https://localhost:8080/"
        },
        "id": "euT-QRmk6BGl",
        "outputId": "ef6ad170-25d9-4127-f34c-f2b612ef6a7f"
      },
      "outputs": [
        {
          "name": "stdout",
          "output_type": "stream",
          "text": [
            "8643\n",
            "1526\n",
            "(tensor([[[-0.0979,  3.8913,  5.8243,  ...,  7.5515,  7.7654,  2.5155],\n",
            "         [ 5.4905,  4.9966,  3.0787,  ...,  1.0050,  0.5467,  7.1842],\n",
            "         [ 4.1459,  3.5869,  1.7674,  ...,  0.2230, -0.0374,  1.5963],\n",
            "         ...,\n",
            "         [-0.5581, -0.4847, -0.4550,  ..., -0.3644, -0.3326, -0.3194],\n",
            "         [-0.5581, -0.4847, -0.4550,  ..., -0.3644, -0.3326, -0.3195],\n",
            "         [-0.5580, -0.4847, -0.4550,  ..., -0.3644, -0.3326, -0.3196]]],\n",
            "       device='cuda:0'), tensor([0., 0., 1., 0., 0., 0., 0., 0.]))\n"
          ]
        }
      ],
      "source": [
        "print(len(tr))\n",
        "print(len(ts))\n",
        "print(tr[0])\n"
      ]
    },
    {
      "cell_type": "markdown",
      "metadata": {
        "id": "FiP1Lz5DZGzE"
      },
      "source": [
        "MODEL CLASS"
      ]
    },
    {
      "cell_type": "code",
      "execution_count": null,
      "metadata": {
        "id": "_QGvQa3L4qsc"
      },
      "outputs": [],
      "source": [
        "from torch import nn\n",
        "from torchsummary import summary\n",
        "class cnn(nn.Module):\n",
        " def __init__(self):\n",
        "    super().__init__()\n",
        "    self.conv1=nn.Sequential(nn.Conv2d(\n",
        "    in_channels=1,\n",
        "    out_channels=16,\n",
        "    kernel_size=3,\n",
        "    stride=1,\n",
        "    padding=2\n",
        "    ),\n",
        "    nn.ReLU(),\n",
        "    nn.MaxPool2d(kernel_size=2),\n",
        "    )\n",
        "    self.conv2=nn.Sequential(nn.Conv2d(\n",
        "    in_channels=16,\n",
        "    out_channels=32,\n",
        "    kernel_size=3,\n",
        "    stride=1,\n",
        "    padding=2\n",
        "    ),\n",
        "    nn.ReLU(),\n",
        "    nn.MaxPool2d(kernel_size=2),\n",
        "    )\n",
        "    self.conv3=nn.Sequential(nn.Conv2d(\n",
        "    in_channels=32,\n",
        "    out_channels=64,\n",
        "    kernel_size=3,\n",
        "    stride=1,\n",
        "    padding=2\n",
        "    ),\n",
        "    nn.ReLU(),\n",
        "    nn.MaxPool2d(kernel_size=2),\n",
        "    )\n",
        "    self.conv4=nn.Sequential(nn.Conv2d(\n",
        "    in_channels=64,\n",
        "    out_channels=128,\n",
        "    kernel_size=3,\n",
        "    stride=1,\n",
        "    padding=2\n",
        "    ),\n",
        "    nn.ReLU(),\n",
        "    nn.MaxPool2d(kernel_size=2),\n",
        "    )\n",
        "    self.flatten=nn.Flatten()\n",
        "    self.linear=nn.Sequential(nn.Linear(128*5*4,512),\n",
        "                              nn.ReLU(),\n",
        "                              nn.Linear(512,8)\n",
        "    )\n",
        "    self.tan=nn.Tanh()\n",
        " def forward(self,input_data):\n",
        "   x=self.conv1(input_data)\n",
        "   x=self.conv2(x)\n",
        "   x=self.conv3(x)\n",
        "   x=self.conv4(x)\n",
        "   x=self.flatten(x)\n",
        "   logits=self.linear(x)\n",
        "   predictions=self.tan(logits)\n",
        "   return predictions\n",
        "\n",
        "\n",
        "\n"
      ]
    },
    {
      "cell_type": "markdown",
      "metadata": {
        "id": "CgtPHsI1ZbBf"
      },
      "source": [
        "MODEL INITIALIZATION"
      ]
    },
    {
      "cell_type": "code",
      "execution_count": null,
      "metadata": {
        "colab": {
          "base_uri": "https://localhost:8080/"
        },
        "id": "yge4LqbnWYHM",
        "outputId": "067e2b8a-d597-441c-e70d-f230b4391ad1"
      },
      "outputs": [
        {
          "output_type": "stream",
          "name": "stdout",
          "text": [
            "----------------------------------------------------------------\n",
            "        Layer (type)               Output Shape         Param #\n",
            "================================================================\n",
            "            Conv2d-1           [-1, 16, 66, 46]             160\n",
            "              ReLU-2           [-1, 16, 66, 46]               0\n",
            "         MaxPool2d-3           [-1, 16, 33, 23]               0\n",
            "            Conv2d-4           [-1, 32, 35, 25]           4,640\n",
            "              ReLU-5           [-1, 32, 35, 25]               0\n",
            "         MaxPool2d-6           [-1, 32, 17, 12]               0\n",
            "            Conv2d-7           [-1, 64, 19, 14]          18,496\n",
            "              ReLU-8           [-1, 64, 19, 14]               0\n",
            "         MaxPool2d-9             [-1, 64, 9, 7]               0\n",
            "           Conv2d-10           [-1, 128, 11, 9]          73,856\n",
            "             ReLU-11           [-1, 128, 11, 9]               0\n",
            "        MaxPool2d-12            [-1, 128, 5, 4]               0\n",
            "          Flatten-13                 [-1, 2560]               0\n",
            "           Linear-14                  [-1, 512]       1,311,232\n",
            "             ReLU-15                  [-1, 512]               0\n",
            "           Linear-16                    [-1, 8]           4,104\n",
            "             Tanh-17                    [-1, 8]               0\n",
            "================================================================\n",
            "Total params: 1,412,488\n",
            "Trainable params: 1,412,488\n",
            "Non-trainable params: 0\n",
            "----------------------------------------------------------------\n",
            "Input size (MB): 0.01\n",
            "Forward/backward pass size (MB): 1.84\n",
            "Params size (MB): 5.39\n",
            "Estimated Total Size (MB): 7.24\n",
            "----------------------------------------------------------------\n"
          ]
        }
      ],
      "source": [
        "model=cnn().to(device)\n",
        "criterion=nn.CrossEntropyLoss()\n",
        "optimizer=torch.optim.Adam(model.parameters(),lr=0.001)\n",
        "summary(model.to(device),(1,64,44))\n"
      ]
    },
    {
      "cell_type": "code",
      "execution_count": null,
      "metadata": {
        "id": "8O_jyTHpz6wb"
      },
      "outputs": [],
      "source": [
        "def accuracy(outputs, labels):\n",
        "    preds = torch.max(outputs,dim=1)\n",
        "    L=torch.max(labels,dim=1)\n",
        "    return torch.tensor(torch.sum(preds[1] == L[1]).item() / len(preds[1]))*100"
      ]
    },
    {
      "cell_type": "code",
      "execution_count": null,
      "metadata": {
        "colab": {
          "base_uri": "https://localhost:8080/"
        },
        "id": "3fRjIxOgaSpL",
        "outputId": "6ab83788-7334-4b70-cdf9-f2d0ae705182"
      },
      "outputs": [
        {
          "name": "stdout",
          "output_type": "stream",
          "text": [
            "@@ 25\n",
            "Epoch:0,Loss:0.8203,TRAIN ACCURACY:55.00646209716797%\n",
            "Epoch:0,Loss:0.9524,TEST ACCURACY:87.11035919189453%\n",
            "@@ 25\n",
            "Epoch:5,Loss:0.7431,TRAIN ACCURACY:95.63965606689453%\n",
            "Epoch:5,Loss:0.6731,TEST ACCURACY:94.3871078491211%\n",
            "@@ 25\n",
            "Epoch:10,Loss:0.7387,TRAIN ACCURACY:96.91291046142578%\n",
            "Epoch:10,Loss:0.7411,TEST ACCURACY:94.11205291748047%\n",
            "@@ 25\n",
            "Epoch:15,Loss:0.6668,TRAIN ACCURACY:96.90092468261719%\n",
            "Epoch:15,Loss:0.7037,TEST ACCURACY:94.66893768310547%\n",
            "@@ 25\n",
            "Epoch:20,Loss:0.7795,TRAIN ACCURACY:96.99356842041016%\n",
            "Epoch:20,Loss:0.6898,TEST ACCURACY:94.41085815429688%\n",
            "@@ 25\n",
            "Epoch:25,Loss:0.6665,TRAIN ACCURACY:96.60140228271484%\n",
            "Epoch:25,Loss:0.7713,TEST ACCURACY:93.78945922851562%\n",
            "@@ 25\n",
            "Epoch:30,Loss:0.7230,TRAIN ACCURACY:97.05667877197266%\n",
            "Epoch:30,Loss:0.7273,TEST ACCURACY:94.41085052490234%\n",
            "@@ 25\n",
            "Epoch:35,Loss:0.6665,TRAIN ACCURACY:97.1428451538086%\n",
            "Epoch:35,Loss:0.7408,TEST ACCURACY:94.69268798828125%\n",
            "@@ 25\n",
            "Epoch:40,Loss:0.7230,TRAIN ACCURACY:97.18338775634766%\n",
            "Epoch:40,Loss:0.7131,TEST ACCURACY:94.79795837402344%\n",
            "@@ 25\n",
            "Epoch:45,Loss:0.6665,TRAIN ACCURACY:96.77422332763672%\n",
            "Epoch:45,Loss:0.7731,TEST ACCURACY:93.94226837158203%\n",
            "@@ 25\n",
            "Epoch:50,Loss:0.6665,TRAIN ACCURACY:96.1290512084961%\n",
            "Epoch:50,Loss:0.7717,TEST ACCURACY:94.628173828125%\n",
            "@@ 25\n",
            "Epoch:55,Loss:0.6665,TRAIN ACCURACY:96.57833862304688%\n",
            "Epoch:55,Loss:0.7564,TEST ACCURACY:94.30560302734375%\n",
            "@@ 25\n",
            "Epoch:60,Loss:0.7799,TRAIN ACCURACY:96.22169494628906%\n",
            "Epoch:60,Loss:0.8905,TEST ACCURACY:93.86077117919922%\n",
            "@@ 25\n",
            "Epoch:65,Loss:0.6665,TRAIN ACCURACY:95.06914520263672%\n",
            "Epoch:65,Loss:0.7282,TEST ACCURACY:92.62818145751953%\n",
            "@@ 25\n",
            "Epoch:70,Loss:0.6665,TRAIN ACCURACY:93.75579071044922%\n",
            "Epoch:70,Loss:0.8186,TEST ACCURACY:93.81324005126953%\n",
            "@@ 25\n",
            "Epoch:75,Loss:0.6665,TRAIN ACCURACY:95.03460693359375%\n",
            "Epoch:75,Loss:0.7660,TEST ACCURACY:93.55517578125%\n",
            "@@ 25\n",
            "Epoch:80,Loss:0.6665,TRAIN ACCURACY:96.35948181152344%\n",
            "Epoch:80,Loss:0.8128,TEST ACCURACY:93.08657836914062%\n",
            "@@ 25\n",
            "Epoch:85,Loss:0.7795,TRAIN ACCURACY:95.74932861328125%\n",
            "Epoch:85,Loss:0.8524,TEST ACCURACY:93.0865707397461%\n",
            "@@ 25\n",
            "Epoch:90,Loss:0.6812,TRAIN ACCURACY:96.37096405029297%\n",
            "Epoch:90,Loss:0.7780,TEST ACCURACY:93.81324005126953%\n",
            "@@ 25\n",
            "Epoch:95,Loss:0.6665,TRAIN ACCURACY:97.09677124023438%\n",
            "Epoch:95,Loss:0.7505,TEST ACCURACY:94.95075225830078%\n"
          ]
        }
      ],
      "source": [
        "nepoch=100\n",
        "train_loss=[]\n",
        "train_acc=[]\n",
        "test_loss=[]\n",
        "test_acc=[]\n",
        "test_loss=[]\n",
        "for epoch in range (nepoch):\n",
        "  running_loss = 0.0\n",
        "  i=0\n",
        "  acc=0\n",
        "\n",
        "  for batch_idx, (d, w) in enumerate(trl):\n",
        "    i+=1\n",
        "    d=d.to(device)\n",
        "    w=w.to(device)\n",
        "    o=model(d)\n",
        "    loss=criterion(o,w)\n",
        "    acc+=accuracy(o,w)\n",
        "    loss.backward()\n",
        "    optimizer.step()\n",
        "    optimizer.zero_grad()\n",
        "    running_loss += loss.item()\n",
        "  acc=acc/i\n",
        "  train_loss.append(running_loss/len(trl))\n",
        "  train_acc.append(acc)\n",
        "  if epoch%5==0:\n",
        "    print(\"@@\",len(o))\n",
        "    print(f'Epoch:{epoch},Loss:{loss.item():.4f},TRAIN ACCURACY:{acc}%')\n",
        "  batch_loss = 0\n",
        "  i=0\n",
        "  acc=0\n",
        "\n",
        "  for dt,wt in tsl:\n",
        "    i+=1\n",
        "    dt=dt.to(device)\n",
        "    wt=wt.to(device)\n",
        "    ot=model(dt)\n",
        "    loss_t=criterion(ot,wt)\n",
        "    acc+=accuracy(ot,wt)\n",
        "    batch_loss += loss_t.item()\n",
        "  acc=acc/i\n",
        "  test_loss.append(batch_loss/len(tsl))\n",
        "  test_acc.append(acc)\n",
        "  if epoch%5==0:\n",
        "    print(f'Epoch:{epoch},Loss:{loss_t.item():.4f},TEST ACCURACY:{acc}%')"
      ]
    },
    {
      "cell_type": "code",
      "execution_count": null,
      "metadata": {
        "id": "kriC0SKqTpmc"
      },
      "outputs": [],
      "source": []
    },
    {
      "cell_type": "code",
      "execution_count": null,
      "metadata": {
        "colab": {
          "base_uri": "https://localhost:8080/",
          "height": 265
        },
        "id": "j09VElXOTZrQ",
        "outputId": "7d233698-6f03-4c4e-e0a1-67314e3c082e"
      },
      "outputs": [
        {
          "data": {
            "image/png": "[encoded data removed]",
            "text/plain": [
              "<Figure size 432x288 with 1 Axes>"
            ]
          },
          "metadata": {},
          "output_type": "display_data"
        }
      ],
      "source": [
        "# plt.plot(np.arange(1,nepoch+1),train_loss)\n",
        "import matplotlib.pyplot as plt\n",
        "plt.plot(train_loss, label='Training loss')\n",
        "plt.plot(test_loss, label='Validation loss')\n",
        "plt.legend(frameon=False)\n",
        "plt.show()"
      ]
    },
    {
      "cell_type": "code",
      "execution_count": null,
      "metadata": {
        "colab": {
          "base_uri": "https://localhost:8080/",
          "height": 265
        },
        "id": "7HTLMBHdgklY",
        "outputId": "6ce8aecb-09f5-4846-bdd2-f2261b33642e"
      },
      "outputs": [
        {
          "data": {
            "image/png": "[encoded data removed]",
            "text/plain": [
              "<Figure size 432x288 with 1 Axes>"
            ]
          },
          "metadata": {},
          "output_type": "display_data"
        }
      ],
      "source": [
        "plt.plot(train_acc, label='Training accuracy')\n",
        "plt.plot(test_acc, label='Validation accuracy')\n",
        "plt.legend(frameon=False)\n",
        "plt.show()"
      ]
    },
    {
      "cell_type": "code",
      "execution_count": null,
      "metadata": {
        "id": "c2DF87bAWtSJ"
      },
      "outputs": [],
      "source": [
        "torch.save(model,'/content/drive/MyDrive/DSPDATAM/SAVE/AUDIO200.ptf')\n"
      ]
    },
    {
      "cell_type": "code",
      "execution_count": null,
      "metadata": {
        "id": "IPj4lNZoXDNU"
      },
      "outputs": [],
      "source": [
        "model=torch.load('/content/drive/MyDrive/DSPDATAM/SAVE/AUDIO200.ptf')"
      ]
    },
    {
      "cell_type": "markdown",
      "metadata": {
        "id": "AlW2_QKnazI9"
      },
      "source": [
        "PREDICT"
      ]
    },
    {
      "cell_type": "markdown",
      "metadata": {
        "id": "w6oVZU0UJ7xK"
      },
      "source": [
        "LOADING MODEL"
      ]
    },
    {
      "cell_type": "code",
      "execution_count": null,
      "metadata": {
        "id": "ciGePCv6gov1"
      },
      "outputs": [],
      "source": [
        "sr=22050\n",
        "ns=22050\n",
        "mel=torchaudio.transforms.MelSpectrogram(sample_rate=sr,\n",
        "                                         n_fft=1024,\n",
        "                                         hop_length=512,\n",
        "                                         n_mels=64)\n",
        "\n",
        "def get (p2,transform,tsr,ns):\n",
        "  signal,sr=torchaudio.load(p2)\n",
        "  #signal=signal.astype('float32')\n",
        "  signal=_resample_if_necessary(signal,sr,tsr)\n",
        "  signal=_mix_down_if_necessary(signal)\n",
        "  signal = _cut_if_necessary(signal,ns)\n",
        "  signal = _right_pad_if_necessary(signal,ns)\n",
        "  signal=transform(signal)\n",
        "  return signal\n",
        "\n",
        "def _resample_if_necessary(signal,sr,tsr):\n",
        "  if(sr!=tsr):\n",
        "    res=torchaudio.transforms.Resample(sr,tsr)\n",
        "    signal=res(signal)\n",
        "  return signal\n",
        "def _mix_down_if_necessary(signal):\n",
        "  if signal.shape[0]>1:\n",
        "    signal=torch.mean(signal,dim=0,keepdim=True)\n",
        "  return signal\n",
        "def _cut_if_necessary(signal,ns):\n",
        "  if signal.shape[1] > ns:\n",
        "    signal = signal[:, :ns]\n",
        "  return signal\n",
        "\n",
        "def _right_pad_if_necessary(signal,ns):\n",
        "  length_signal = signal.shape[1]\n",
        "  if length_signal < ns:\n",
        "    num_missing_samples = ns - length_signal\n",
        "    last_dim_padding = (0, num_missing_samples)\n",
        "    signal = torch.nn.functional.pad(signal, last_dim_padding)\n",
        "  return signal"
      ]
    },
    {
      "cell_type": "markdown",
      "metadata": {
        "id": "8GKka2cjerPA"
      },
      "source": [
        "PREDICT"
      ]
    },
    {
      "cell_type": "markdown",
      "source": [
        "CODE REQUIRED FOR RASPBERRY PI"
      ],
      "metadata": {
        "id": "vc-cHrO3Cw8W"
      }
    },
    {
      "cell_type": "code",
      "source": [
        "import torch\n",
        "import torchaudio\n",
        "import torchaudio.functional as F\n",
        "import torchaudio.transforms as T\n",
        "from torchvision import datasets, transforms\n",
        "\n",
        "import numpy as np\n",
        "import os\n",
        "import time\n",
        "import numpy as np\n",
        "from PIL import Image\n",
        "import torchvision\n",
        "from torch import nn\n",
        "from torch.utils.data.dataset import Dataset\n",
        "from torchvision import transforms\n",
        "import torchaudio\n",
        "from torch import nn\n",
        "\n",
        "sr=22050\n",
        "ns=22050\n",
        "mel=torchaudio.transforms.MelSpectrogram(sample_rate=sr,\n",
        "                                         n_fft=1024,\n",
        "                                         hop_length=512,\n",
        "                                         n_mels=64)\n",
        "device=torch.device('cuda:0' if torch.cuda.is_available() else 'cpu')\n",
        "\n",
        "from torchsummary import summary\n",
        "class cnn(nn.Module):\n",
        " def __init__(self):\n",
        "    super().__init__()\n",
        "    self.conv1=nn.Sequential(nn.Conv2d(\n",
        "    in_channels=1,\n",
        "    out_channels=16,\n",
        "    kernel_size=3,\n",
        "    stride=1,\n",
        "    padding=2\n",
        "    ),\n",
        "    nn.ReLU(),\n",
        "    nn.MaxPool2d(kernel_size=2),\n",
        "    )\n",
        "    self.conv2=nn.Sequential(nn.Conv2d(\n",
        "    in_channels=16,\n",
        "    out_channels=32,\n",
        "    kernel_size=3,\n",
        "    stride=1,\n",
        "    padding=2\n",
        "    ),\n",
        "    nn.ReLU(),\n",
        "    nn.MaxPool2d(kernel_size=2),\n",
        "    )\n",
        "    self.conv3=nn.Sequential(nn.Conv2d(\n",
        "    in_channels=32,\n",
        "    out_channels=64,\n",
        "    kernel_size=3,\n",
        "    stride=1,\n",
        "    padding=2\n",
        "    ),\n",
        "    nn.ReLU(),\n",
        "    nn.MaxPool2d(kernel_size=2),\n",
        "    )\n",
        "    self.conv4=nn.Sequential(nn.Conv2d(\n",
        "    in_channels=64,\n",
        "    out_channels=128,\n",
        "    kernel_size=3,\n",
        "    stride=1,\n",
        "    padding=2\n",
        "    ),\n",
        "    nn.ReLU(),\n",
        "    nn.MaxPool2d(kernel_size=2),\n",
        "    )\n",
        "    self.flatten=nn.Flatten()\n",
        "    self.linear=nn.Sequential(nn.Linear(128*5*4,512),\n",
        "                              nn.ReLU(),\n",
        "                              nn.Linear(512,8)\n",
        "    )\n",
        "    self.tan=nn.Tanh()\n",
        " def forward(self,input_data):\n",
        "   x=self.conv1(input_data)\n",
        "   x=self.conv2(x)\n",
        "   x=self.conv3(x)\n",
        "   x=self.conv4(x)\n",
        "   x=self.flatten(x)\n",
        "   logits=self.linear(x)\n",
        "   predictions=self.tan(logits)\n",
        "   return predictions\n",
        "\n",
        "\n",
        "model=cnn()\n",
        "model=torch.load('/content/drive/MyDrive/DSPDATAM/SAVE/AUDIO200.ptf')\n",
        "\n",
        "\n",
        "sr=22050\n",
        "ns=22050\n",
        "mel=torchaudio.transforms.MelSpectrogram(sample_rate=sr,\n",
        "                                         n_fft=1024,\n",
        "                                         hop_length=512,\n",
        "                                         n_mels=64)\n",
        "def get (p2,transform,tsr,ns):\n",
        "  signal,sr=torchaudio.load(p2)\n",
        "  #signal=signal.astype('float32')\n",
        "  signal=_resample_if_necessary(signal,sr,tsr)\n",
        "  signal=_mix_down_if_necessary(signal)\n",
        "  signal = _cut_if_necessary(signal,ns)\n",
        "  signal = _right_pad_if_necessary(signal,ns)\n",
        "  signal=transform(signal)\n",
        "  return signal\n",
        "\n",
        "def _resample_if_necessary(signal,sr,tsr):\n",
        "  if(sr!=tsr):\n",
        "    res=torchaudio.transforms.Resample(sr,tsr)\n",
        "    signal=res(signal)\n",
        "  return signal\n",
        "def _mix_down_if_necessary(signal):\n",
        "  if signal.shape[0]>1:\n",
        "    signal=torch.mean(signal,dim=0,keepdim=True)\n",
        "  return signal\n",
        "def _cut_if_necessary(signal,ns):\n",
        "  if signal.shape[1] > ns:\n",
        "    signal = signal[:, :ns]\n",
        "  return signal\n",
        "\n",
        "def _right_pad_if_necessary(signal,ns):\n",
        "  length_signal = signal.shape[1]\n",
        "  if length_signal < ns:\n",
        "    num_missing_samples = ns - length_signal\n",
        "    last_dim_padding = (0, num_missing_samples)\n",
        "    signal = torch.nn.functional.pad(signal, last_dim_padding)\n",
        "  return signal\n",
        "\n",
        "p2=\"/content/drive/MyDrive/DSPDATAM/testdata/left/1737.wav\"\n",
        "an= get (p2,mel,sr,ns)\n",
        "t=torch.unsqueeze(an,0)\n",
        "t=t.to(device)\n",
        "o=model(t)\n",
        "key=0\n",
        "o=o.squeeze(0)\n",
        "output=[\"DOWN\",\"FEAR\",\"LEFT\",\"NO\",\"RIGHT\",\"SIREN\",\"STOP\",\"SURPRISE\"]\n",
        "for j in range(0,8):\n",
        "  if(o[j]>0):\n",
        "    key=1\n",
        "    print(output[j])\n",
        "    break\n",
        "if(key==1):\n",
        "  print(\"Lower the windsheild\")\n"
      ],
      "metadata": {
        "colab": {
          "base_uri": "https://localhost:8080/"
        },
        "id": "DF2M1lyICMuc",
        "outputId": "ae45852f-d419-43ba-eda4-ad885fc40f25"
      },
      "execution_count": null,
      "outputs": [
        {
          "output_type": "stream",
          "name": "stdout",
          "text": [
            "LEFT\n",
            "Lower the windsheild\n"
          ]
        }
      ]
    }
  ],
  "metadata": {
    "accelerator": "GPU",
    "colab": {
      "provenance": []
    },
    "kernelspec": {
      "display_name": "Python 3",
      "name": "python3"
    },
    "language_info": {
      "name": "python"
    }
  },
  "nbformat": 4,
  "nbformat_minor": 0
}